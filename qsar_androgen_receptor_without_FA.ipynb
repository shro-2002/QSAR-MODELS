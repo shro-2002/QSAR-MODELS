{
  "cells": [
    {
      "cell_type": "markdown",
      "source": [
        "### Import libraries"
      ],
      "metadata": {
        "id": "qGpDioVUJRoP"
      }
    },
    {
      "cell_type": "code",
      "execution_count": 1,
      "metadata": {
        "id": "G4n8_1DBqAw7"
      },
      "outputs": [],
      "source": [
        "import pandas as pd\n",
        "import seaborn as sns\n",
        "import numpy as np\n",
        "import matplotlib.pyplot as plt\n",
        "from sklearn.decomposition import FactorAnalysis\n",
        "from sklearn.metrics import roc_curve, auc\n",
        "from sklearn.preprocessing import LabelEncoder\n",
        "from imblearn.over_sampling import SMOTE\n",
        "from imblearn.over_sampling import ADASYN\n",
        "from sklearn.metrics import accuracy_score\n",
        "from sklearn.metrics import classification_report\n",
        "import xgboost as xgb\n",
        "from sklearn.metrics import log_loss\n",
        "from sklearn.neighbors import KNeighborsClassifier\n",
        "from sklearn.ensemble import RandomForestClassifier\n",
        "from sklearn.model_selection import train_test_split"
      ]
    },
    {
      "cell_type": "code",
      "source": [
        "df = pd.read_csv(\"qsar_androgen_receptor.csv\", delimiter = \";\", header = None)\n",
        "df"
      ],
      "metadata": {
        "colab": {
          "base_uri": "https://localhost:8080/",
          "height": 423
        },
        "id": "TFOAC0TaJc-i",
        "outputId": "c8b6ff92-c79a-4828-c9be-5de635e653ea"
      },
      "execution_count": 2,
      "outputs": [
        {
          "output_type": "execute_result",
          "data": {
            "text/plain": [
              "      0     1     2     3     4     5     6     7     8     9     ...  1015  \\\n",
              "0        0     0     0     0     0     0     0     0     0     0  ...     0   \n",
              "1        0     0     0     0     0     0     1     0     0     0  ...     0   \n",
              "2        0     0     1     0     0     0     0     0     0     0  ...     0   \n",
              "3        0     0     1     0     0     0     0     0     0     0  ...     0   \n",
              "4        0     0     1     0     0     0     0     0     0     0  ...     0   \n",
              "...    ...   ...   ...   ...   ...   ...   ...   ...   ...   ...  ...   ...   \n",
              "1682     0     0     1     0     0     0     0     1     0     1  ...     0   \n",
              "1683     0     0     0     0     0     0     0     0     0     0  ...     0   \n",
              "1684     0     0     0     0     0     0     0     0     0     0  ...     0   \n",
              "1685     0     0     1     0     0     0     0     0     0     0  ...     0   \n",
              "1686     0     0     1     0     0     0     0     0     0     0  ...     0   \n",
              "\n",
              "      1016  1017  1018  1019  1020  1021  1022  1023      1024  \n",
              "0        0     0     0     0     0     0     0     0  positive  \n",
              "1        0     1     0     0     0     1     0     0  positive  \n",
              "2        0     0     0     0     0     0     0     0  positive  \n",
              "3        0     0     0     0     0     0     0     0  positive  \n",
              "4        0     0     0     0     0     0     0     1  positive  \n",
              "...    ...   ...   ...   ...   ...   ...   ...   ...       ...  \n",
              "1682     0     1     0     0     0     0     1     0  negative  \n",
              "1683     0     0     0     0     0     0     0     0  negative  \n",
              "1684     0     1     0     0     0     0     0     0  negative  \n",
              "1685     0     0     0     0     0     0     0     0  negative  \n",
              "1686     0     0     0     0     0     0     0     0  negative  \n",
              "\n",
              "[1687 rows x 1025 columns]"
            ],
            "text/html": [
              "\n",
              "  <div id=\"df-f6a0c940-e8bb-4dc6-942d-719659e4cdcc\">\n",
              "    <div class=\"colab-df-container\">\n",
              "      <div>\n",
              "<style scoped>\n",
              "    .dataframe tbody tr th:only-of-type {\n",
              "        vertical-align: middle;\n",
              "    }\n",
              "\n",
              "    .dataframe tbody tr th {\n",
              "        vertical-align: top;\n",
              "    }\n",
              "\n",
              "    .dataframe thead th {\n",
              "        text-align: right;\n",
              "    }\n",
              "</style>\n",
              "<table border=\"1\" class=\"dataframe\">\n",
              "  <thead>\n",
              "    <tr style=\"text-align: right;\">\n",
              "      <th></th>\n",
              "      <th>0</th>\n",
              "      <th>1</th>\n",
              "      <th>2</th>\n",
              "      <th>3</th>\n",
              "      <th>4</th>\n",
              "      <th>5</th>\n",
              "      <th>6</th>\n",
              "      <th>7</th>\n",
              "      <th>8</th>\n",
              "      <th>9</th>\n",
              "      <th>...</th>\n",
              "      <th>1015</th>\n",
              "      <th>1016</th>\n",
              "      <th>1017</th>\n",
              "      <th>1018</th>\n",
              "      <th>1019</th>\n",
              "      <th>1020</th>\n",
              "      <th>1021</th>\n",
              "      <th>1022</th>\n",
              "      <th>1023</th>\n",
              "      <th>1024</th>\n",
              "    </tr>\n",
              "  </thead>\n",
              "  <tbody>\n",
              "    <tr>\n",
              "      <th>0</th>\n",
              "      <td>0</td>\n",
              "      <td>0</td>\n",
              "      <td>0</td>\n",
              "      <td>0</td>\n",
              "      <td>0</td>\n",
              "      <td>0</td>\n",
              "      <td>0</td>\n",
              "      <td>0</td>\n",
              "      <td>0</td>\n",
              "      <td>0</td>\n",
              "      <td>...</td>\n",
              "      <td>0</td>\n",
              "      <td>0</td>\n",
              "      <td>0</td>\n",
              "      <td>0</td>\n",
              "      <td>0</td>\n",
              "      <td>0</td>\n",
              "      <td>0</td>\n",
              "      <td>0</td>\n",
              "      <td>0</td>\n",
              "      <td>positive</td>\n",
              "    </tr>\n",
              "    <tr>\n",
              "      <th>1</th>\n",
              "      <td>0</td>\n",
              "      <td>0</td>\n",
              "      <td>0</td>\n",
              "      <td>0</td>\n",
              "      <td>0</td>\n",
              "      <td>0</td>\n",
              "      <td>1</td>\n",
              "      <td>0</td>\n",
              "      <td>0</td>\n",
              "      <td>0</td>\n",
              "      <td>...</td>\n",
              "      <td>0</td>\n",
              "      <td>0</td>\n",
              "      <td>1</td>\n",
              "      <td>0</td>\n",
              "      <td>0</td>\n",
              "      <td>0</td>\n",
              "      <td>1</td>\n",
              "      <td>0</td>\n",
              "      <td>0</td>\n",
              "      <td>positive</td>\n",
              "    </tr>\n",
              "    <tr>\n",
              "      <th>2</th>\n",
              "      <td>0</td>\n",
              "      <td>0</td>\n",
              "      <td>1</td>\n",
              "      <td>0</td>\n",
              "      <td>0</td>\n",
              "      <td>0</td>\n",
              "      <td>0</td>\n",
              "      <td>0</td>\n",
              "      <td>0</td>\n",
              "      <td>0</td>\n",
              "      <td>...</td>\n",
              "      <td>0</td>\n",
              "      <td>0</td>\n",
              "      <td>0</td>\n",
              "      <td>0</td>\n",
              "      <td>0</td>\n",
              "      <td>0</td>\n",
              "      <td>0</td>\n",
              "      <td>0</td>\n",
              "      <td>0</td>\n",
              "      <td>positive</td>\n",
              "    </tr>\n",
              "    <tr>\n",
              "      <th>3</th>\n",
              "      <td>0</td>\n",
              "      <td>0</td>\n",
              "      <td>1</td>\n",
              "      <td>0</td>\n",
              "      <td>0</td>\n",
              "      <td>0</td>\n",
              "      <td>0</td>\n",
              "      <td>0</td>\n",
              "      <td>0</td>\n",
              "      <td>0</td>\n",
              "      <td>...</td>\n",
              "      <td>0</td>\n",
              "      <td>0</td>\n",
              "      <td>0</td>\n",
              "      <td>0</td>\n",
              "      <td>0</td>\n",
              "      <td>0</td>\n",
              "      <td>0</td>\n",
              "      <td>0</td>\n",
              "      <td>0</td>\n",
              "      <td>positive</td>\n",
              "    </tr>\n",
              "    <tr>\n",
              "      <th>4</th>\n",
              "      <td>0</td>\n",
              "      <td>0</td>\n",
              "      <td>1</td>\n",
              "      <td>0</td>\n",
              "      <td>0</td>\n",
              "      <td>0</td>\n",
              "      <td>0</td>\n",
              "      <td>0</td>\n",
              "      <td>0</td>\n",
              "      <td>0</td>\n",
              "      <td>...</td>\n",
              "      <td>0</td>\n",
              "      <td>0</td>\n",
              "      <td>0</td>\n",
              "      <td>0</td>\n",
              "      <td>0</td>\n",
              "      <td>0</td>\n",
              "      <td>0</td>\n",
              "      <td>0</td>\n",
              "      <td>1</td>\n",
              "      <td>positive</td>\n",
              "    </tr>\n",
              "    <tr>\n",
              "      <th>...</th>\n",
              "      <td>...</td>\n",
              "      <td>...</td>\n",
              "      <td>...</td>\n",
              "      <td>...</td>\n",
              "      <td>...</td>\n",
              "      <td>...</td>\n",
              "      <td>...</td>\n",
              "      <td>...</td>\n",
              "      <td>...</td>\n",
              "      <td>...</td>\n",
              "      <td>...</td>\n",
              "      <td>...</td>\n",
              "      <td>...</td>\n",
              "      <td>...</td>\n",
              "      <td>...</td>\n",
              "      <td>...</td>\n",
              "      <td>...</td>\n",
              "      <td>...</td>\n",
              "      <td>...</td>\n",
              "      <td>...</td>\n",
              "      <td>...</td>\n",
              "    </tr>\n",
              "    <tr>\n",
              "      <th>1682</th>\n",
              "      <td>0</td>\n",
              "      <td>0</td>\n",
              "      <td>1</td>\n",
              "      <td>0</td>\n",
              "      <td>0</td>\n",
              "      <td>0</td>\n",
              "      <td>0</td>\n",
              "      <td>1</td>\n",
              "      <td>0</td>\n",
              "      <td>1</td>\n",
              "      <td>...</td>\n",
              "      <td>0</td>\n",
              "      <td>0</td>\n",
              "      <td>1</td>\n",
              "      <td>0</td>\n",
              "      <td>0</td>\n",
              "      <td>0</td>\n",
              "      <td>0</td>\n",
              "      <td>1</td>\n",
              "      <td>0</td>\n",
              "      <td>negative</td>\n",
              "    </tr>\n",
              "    <tr>\n",
              "      <th>1683</th>\n",
              "      <td>0</td>\n",
              "      <td>0</td>\n",
              "      <td>0</td>\n",
              "      <td>0</td>\n",
              "      <td>0</td>\n",
              "      <td>0</td>\n",
              "      <td>0</td>\n",
              "      <td>0</td>\n",
              "      <td>0</td>\n",
              "      <td>0</td>\n",
              "      <td>...</td>\n",
              "      <td>0</td>\n",
              "      <td>0</td>\n",
              "      <td>0</td>\n",
              "      <td>0</td>\n",
              "      <td>0</td>\n",
              "      <td>0</td>\n",
              "      <td>0</td>\n",
              "      <td>0</td>\n",
              "      <td>0</td>\n",
              "      <td>negative</td>\n",
              "    </tr>\n",
              "    <tr>\n",
              "      <th>1684</th>\n",
              "      <td>0</td>\n",
              "      <td>0</td>\n",
              "      <td>0</td>\n",
              "      <td>0</td>\n",
              "      <td>0</td>\n",
              "      <td>0</td>\n",
              "      <td>0</td>\n",
              "      <td>0</td>\n",
              "      <td>0</td>\n",
              "      <td>0</td>\n",
              "      <td>...</td>\n",
              "      <td>0</td>\n",
              "      <td>0</td>\n",
              "      <td>1</td>\n",
              "      <td>0</td>\n",
              "      <td>0</td>\n",
              "      <td>0</td>\n",
              "      <td>0</td>\n",
              "      <td>0</td>\n",
              "      <td>0</td>\n",
              "      <td>negative</td>\n",
              "    </tr>\n",
              "    <tr>\n",
              "      <th>1685</th>\n",
              "      <td>0</td>\n",
              "      <td>0</td>\n",
              "      <td>1</td>\n",
              "      <td>0</td>\n",
              "      <td>0</td>\n",
              "      <td>0</td>\n",
              "      <td>0</td>\n",
              "      <td>0</td>\n",
              "      <td>0</td>\n",
              "      <td>0</td>\n",
              "      <td>...</td>\n",
              "      <td>0</td>\n",
              "      <td>0</td>\n",
              "      <td>0</td>\n",
              "      <td>0</td>\n",
              "      <td>0</td>\n",
              "      <td>0</td>\n",
              "      <td>0</td>\n",
              "      <td>0</td>\n",
              "      <td>0</td>\n",
              "      <td>negative</td>\n",
              "    </tr>\n",
              "    <tr>\n",
              "      <th>1686</th>\n",
              "      <td>0</td>\n",
              "      <td>0</td>\n",
              "      <td>1</td>\n",
              "      <td>0</td>\n",
              "      <td>0</td>\n",
              "      <td>0</td>\n",
              "      <td>0</td>\n",
              "      <td>0</td>\n",
              "      <td>0</td>\n",
              "      <td>0</td>\n",
              "      <td>...</td>\n",
              "      <td>0</td>\n",
              "      <td>0</td>\n",
              "      <td>0</td>\n",
              "      <td>0</td>\n",
              "      <td>0</td>\n",
              "      <td>0</td>\n",
              "      <td>0</td>\n",
              "      <td>0</td>\n",
              "      <td>0</td>\n",
              "      <td>negative</td>\n",
              "    </tr>\n",
              "  </tbody>\n",
              "</table>\n",
              "<p>1687 rows × 1025 columns</p>\n",
              "</div>\n",
              "      <button class=\"colab-df-convert\" onclick=\"convertToInteractive('df-f6a0c940-e8bb-4dc6-942d-719659e4cdcc')\"\n",
              "              title=\"Convert this dataframe to an interactive table.\"\n",
              "              style=\"display:none;\">\n",
              "        \n",
              "  <svg xmlns=\"http://www.w3.org/2000/svg\" height=\"24px\"viewBox=\"0 0 24 24\"\n",
              "       width=\"24px\">\n",
              "    <path d=\"M0 0h24v24H0V0z\" fill=\"none\"/>\n",
              "    <path d=\"M18.56 5.44l.94 2.06.94-2.06 2.06-.94-2.06-.94-.94-2.06-.94 2.06-2.06.94zm-11 1L8.5 8.5l.94-2.06 2.06-.94-2.06-.94L8.5 2.5l-.94 2.06-2.06.94zm10 10l.94 2.06.94-2.06 2.06-.94-2.06-.94-.94-2.06-.94 2.06-2.06.94z\"/><path d=\"M17.41 7.96l-1.37-1.37c-.4-.4-.92-.59-1.43-.59-.52 0-1.04.2-1.43.59L10.3 9.45l-7.72 7.72c-.78.78-.78 2.05 0 2.83L4 21.41c.39.39.9.59 1.41.59.51 0 1.02-.2 1.41-.59l7.78-7.78 2.81-2.81c.8-.78.8-2.07 0-2.86zM5.41 20L4 18.59l7.72-7.72 1.47 1.35L5.41 20z\"/>\n",
              "  </svg>\n",
              "      </button>\n",
              "      \n",
              "  <style>\n",
              "    .colab-df-container {\n",
              "      display:flex;\n",
              "      flex-wrap:wrap;\n",
              "      gap: 12px;\n",
              "    }\n",
              "\n",
              "    .colab-df-convert {\n",
              "      background-color: #E8F0FE;\n",
              "      border: none;\n",
              "      border-radius: 50%;\n",
              "      cursor: pointer;\n",
              "      display: none;\n",
              "      fill: #1967D2;\n",
              "      height: 32px;\n",
              "      padding: 0 0 0 0;\n",
              "      width: 32px;\n",
              "    }\n",
              "\n",
              "    .colab-df-convert:hover {\n",
              "      background-color: #E2EBFA;\n",
              "      box-shadow: 0px 1px 2px rgba(60, 64, 67, 0.3), 0px 1px 3px 1px rgba(60, 64, 67, 0.15);\n",
              "      fill: #174EA6;\n",
              "    }\n",
              "\n",
              "    [theme=dark] .colab-df-convert {\n",
              "      background-color: #3B4455;\n",
              "      fill: #D2E3FC;\n",
              "    }\n",
              "\n",
              "    [theme=dark] .colab-df-convert:hover {\n",
              "      background-color: #434B5C;\n",
              "      box-shadow: 0px 1px 3px 1px rgba(0, 0, 0, 0.15);\n",
              "      filter: drop-shadow(0px 1px 2px rgba(0, 0, 0, 0.3));\n",
              "      fill: #FFFFFF;\n",
              "    }\n",
              "  </style>\n",
              "\n",
              "      <script>\n",
              "        const buttonEl =\n",
              "          document.querySelector('#df-f6a0c940-e8bb-4dc6-942d-719659e4cdcc button.colab-df-convert');\n",
              "        buttonEl.style.display =\n",
              "          google.colab.kernel.accessAllowed ? 'block' : 'none';\n",
              "\n",
              "        async function convertToInteractive(key) {\n",
              "          const element = document.querySelector('#df-f6a0c940-e8bb-4dc6-942d-719659e4cdcc');\n",
              "          const dataTable =\n",
              "            await google.colab.kernel.invokeFunction('convertToInteractive',\n",
              "                                                     [key], {});\n",
              "          if (!dataTable) return;\n",
              "\n",
              "          const docLinkHtml = 'Like what you see? Visit the ' +\n",
              "            '<a target=\"_blank\" href=https://colab.research.google.com/notebooks/data_table.ipynb>data table notebook</a>'\n",
              "            + ' to learn more about interactive tables.';\n",
              "          element.innerHTML = '';\n",
              "          dataTable['output_type'] = 'display_data';\n",
              "          await google.colab.output.renderOutput(dataTable, element);\n",
              "          const docLink = document.createElement('div');\n",
              "          docLink.innerHTML = docLinkHtml;\n",
              "          element.appendChild(docLink);\n",
              "        }\n",
              "      </script>\n",
              "    </div>\n",
              "  </div>\n",
              "  "
            ]
          },
          "metadata": {},
          "execution_count": 2
        }
      ]
    },
    {
      "cell_type": "markdown",
      "source": [
        "##CLASS IMBALANCE DETECTION"
      ],
      "metadata": {
        "id": "QM5UgbBEOd5W"
      }
    },
    {
      "cell_type": "code",
      "source": [
        "positives = sum(df[1024]=='positive')\n",
        "negatives = sum(df[1024]=='negative')\n",
        "\n",
        "# plot bar plot\n",
        "plt.bar(['positive', 'negative'], [positives, negatives])\n",
        "plt.xlabel('Experimental Class')\n",
        "plt.ylabel('Count')\n",
        "plt.title('Class Distribution')\n",
        "plt.show()\n"
      ],
      "metadata": {
        "colab": {
          "base_uri": "https://localhost:8080/",
          "height": 295
        },
        "id": "6ZXkyy0pwdXj",
        "outputId": "68e96d12-7fae-4416-cbcb-4f98aff3f730"
      },
      "execution_count": 3,
      "outputs": [
        {
          "output_type": "display_data",
          "data": {
            "text/plain": [
              "<Figure size 432x288 with 1 Axes>"
            ],
            "image/png": "[encoded data removed]"
          },
          "metadata": {
            "needs_background": "light"
          }
        }
      ]
    },
    {
      "cell_type": "markdown",
      "source": [
        "##LABEL ENCODING FOR TARGET CLASS"
      ],
      "metadata": {
        "id": "UxRNc5SAOmBS"
      }
    },
    {
      "cell_type": "code",
      "source": [
        "# create an instance of LabelEncoder\n",
        "le = LabelEncoder()\n",
        "\n",
        "# fit and transform the column of categorical data\n",
        "df[1024] = le.fit_transform(df[1024])\n",
        "\n",
        "\n",
        "df[1024]"
      ],
      "metadata": {
        "colab": {
          "base_uri": "https://localhost:8080/"
        },
        "id": "R1wBJdmwleL5",
        "outputId": "759fdf89-b581-4699-fe95-ffd10074fa34"
      },
      "execution_count": 4,
      "outputs": [
        {
          "output_type": "execute_result",
          "data": {
            "text/plain": [
              "0       1\n",
              "1       1\n",
              "2       1\n",
              "3       1\n",
              "4       1\n",
              "       ..\n",
              "1682    0\n",
              "1683    0\n",
              "1684    0\n",
              "1685    0\n",
              "1686    0\n",
              "Name: 1024, Length: 1687, dtype: int64"
            ]
          },
          "metadata": {},
          "execution_count": 4
        }
      ]
    },
    {
      "cell_type": "markdown",
      "source": [
        "##SCATTER PLOT"
      ],
      "metadata": {
        "id": "BUChVFYgW2nj"
      }
    },
    {
      "cell_type": "code",
      "source": [
        "x1= [i for i in range(1024)] # x-coordinates\n",
        "y1 = [df[i][1024] for i in range(1024)] # y-coordinates\n",
        "\n",
        "colors = []\n",
        "for j in y1:\n",
        "  if j == 0:\n",
        "    colors.append('red')\n",
        "  else:\n",
        "    colors.append('yellow')\n",
        "\n",
        "plt.scatter(x1, y1,c=colors)\n",
        "plt.xlabel('X Label')\n",
        "plt.ylabel('Y Label')\n",
        "plt.title('Scatter Plot')\n",
        "plt.show()\n"
      ],
      "metadata": {
        "colab": {
          "base_uri": "https://localhost:8080/",
          "height": 295
        },
        "id": "kUGauYzQNAe3",
        "outputId": "2a8bf165-1ec7-4c6d-809b-a052b1511326"
      },
      "execution_count": 5,
      "outputs": [
        {
          "output_type": "display_data",
          "data": {
            "text/plain": [
              "<Figure size 432x288 with 1 Axes>"
            ],
            "image/png": "[encoded data removed]"
          },
          "metadata": {
            "needs_background": "light"
          }
        }
      ]
    },
    {
      "cell_type": "markdown",
      "source": [
        "### Defining X as Features and Y as Target"
      ],
      "metadata": {
        "id": "e6W1l7NbXBl-"
      }
    },
    {
      "cell_type": "code",
      "execution_count": 6,
      "metadata": {
        "id": "TuZqazsstdRx",
        "colab": {
          "base_uri": "https://localhost:8080/"
        },
        "outputId": "f6afd43d-8c73-42ac-f5d9-7c9374e74858"
      },
      "outputs": [
        {
          "output_type": "stream",
          "name": "stdout",
          "text": [
            "0       int64\n",
            "1       int64\n",
            "2       int64\n",
            "3       int64\n",
            "4       int64\n",
            "        ...  \n",
            "1019    int64\n",
            "1020    int64\n",
            "1021    int64\n",
            "1022    int64\n",
            "1023    int64\n",
            "Length: 1024, dtype: object\n"
          ]
        }
      ],
      "source": [
        "from sklearn.model_selection import train_test_split\n",
        "\n",
        "# feature and target variables\n",
        "X = df.iloc[:, :-1]\n",
        "y = df.iloc[:, -1]\n",
        "\n",
        "print(X.dtypes)\n",
        "\n"
      ]
    },
    {
      "cell_type": "markdown",
      "source": [
        "###LOGISTIC PCA USING FACTOR ANALYSIS"
      ],
      "metadata": {
        "id": "SS1XfKcjYhl6"
      }
    },
    {
      "cell_type": "code",
      "execution_count": 7,
      "metadata": {
        "id": "5qX2qBxcwKv5"
      },
      "outputs": [],
      "source": [
        "# split the data into training and testing sets\n",
        "X_train, X_test, y_train, y_test = train_test_split(X, y, test_size=0.2, random_state=100)\n"
      ]
    },
    {
      "cell_type": "markdown",
      "source": [
        "SMOTE AND ADASYN for imbalanced dataset"
      ],
      "metadata": {
        "id": "CYhfT4hybPsF"
      }
    },
    {
      "cell_type": "code",
      "source": [
        "# apply SMOTE to the training data only\n",
        "smote = SMOTE(random_state=42)\n",
        "X_train1, y_train1 = smote.fit_resample(X_train, y_train)\n",
        "\n",
        "# apply ADASYN to the training data only\n",
        "adasyn = ADASYN(random_state=42)\n",
        "X_train_resampled, y_train_resampled = adasyn.fit_resample(X_train, y_train)"
      ],
      "metadata": {
        "id": "nL6z2XiUQ8m0"
      },
      "execution_count": 8,
      "outputs": []
    },
    {
      "cell_type": "markdown",
      "source": [
        "##KNN algorithm for SMOTE"
      ],
      "metadata": {
        "id": "JjbGko0yuMCx"
      }
    },
    {
      "cell_type": "code",
      "source": [
        "knn = KNeighborsClassifier(n_neighbors=3)\n",
        "knn.fit(X_train1, y_train1)\n",
        "\n",
        "knn_pred = knn.predict(X_test)\n",
        "\n",
        "#calculate the accuracy score for SMOTE\n",
        "acc = accuracy_score(y_test, knn_pred)\n",
        "print(\"Accuracy: {:.2f}%\".format(acc * 100))\n",
        "\n",
        "print(classification_report(y_test, knn_pred))\n",
        "loss = log_loss(y_test, knn_pred)\n",
        "print(\"Cross-entropy Loss:\", loss)\n",
        "\n",
        "# calculate false positive rate (fpr), true positive rate (tpr), and threshold values\n",
        "fpr, tpr, thresholds = roc_curve(y_test, knn_pred)\n",
        "\n",
        "# calculate area under the curve (AUC)\n",
        "roc_auc = auc(fpr, tpr)\n",
        "\n",
        "# plot ROC curve\n",
        "plt.figure()\n",
        "plt.plot(fpr, tpr, color='darkorange', lw=2, label='ROC curve (area = %0.2f)' % roc_auc)\n",
        "plt.plot([0, 1], [0, 1], color='navy', lw=2, linestyle='--')\n",
        "plt.xlim([0.0, 1.0])\n",
        "plt.ylim([0.0, 1.05])\n",
        "plt.xlabel('False Positive Rate')\n",
        "plt.ylabel('True Positive Rate')\n",
        "plt.title('Receiver Operating Characteristic (ROC) Curve')\n",
        "plt.legend(loc=\"lower right\")\n",
        "plt.show()\n",
        "\n",
        "\n"
      ],
      "metadata": {
        "colab": {
          "base_uri": "https://localhost:8080/",
          "height": 494
        },
        "id": "Zl6VFFMab5iZ",
        "outputId": "6d0f5b59-949c-4924-cbcc-4dbf3853b562"
      },
      "execution_count": 9,
      "outputs": [
        {
          "output_type": "stream",
          "name": "stdout",
          "text": [
            "Accuracy: 64.20%\n",
            "              precision    recall  f1-score   support\n",
            "\n",
            "           0       0.98      0.61      0.75       300\n",
            "           1       0.23      0.92      0.37        38\n",
            "\n",
            "    accuracy                           0.64       338\n",
            "   macro avg       0.61      0.76      0.56       338\n",
            "weighted avg       0.90      0.64      0.71       338\n",
            "\n",
            "Cross-entropy Loss: 12.903201361192824\n"
          ]
        },
        {
          "output_type": "display_data",
          "data": {
            "text/plain": [
              "<Figure size 432x288 with 1 Axes>"
            ],
            "image/png": "[encoded data removed]"
          },
          "metadata": {
            "needs_background": "light"
          }
        }
      ]
    },
    {
      "cell_type": "markdown",
      "source": [
        "##KNN algorithm for ADASYN"
      ],
      "metadata": {
        "id": "I09OdygvuUWN"
      }
    },
    {
      "cell_type": "code",
      "source": [
        "knn1 = KNeighborsClassifier(n_neighbors=3)\n",
        "knn1.fit(X_train_resampled, y_train_resampled)\n",
        "knn_pred1 = knn1.predict(X_test)\n",
        "#calculate the accuracy score for ADASYN\n",
        "acc = accuracy_score(y_test, knn_pred1)\n",
        "print(\"Accuracy: {:.2f}%\".format(acc * 100))\n",
        "\n",
        "print(classification_report(y_test, knn_pred1))\n",
        "loss = log_loss(y_test, knn_pred1)\n",
        "print(\"Cross-entropy Loss:\", loss)\n",
        "\n",
        "\n",
        "# calculate false positive rate (fpr), true positive rate (tpr), and threshold values\n",
        "fpr, tpr, thresholds = roc_curve(y_test, knn_pred1)\n",
        "\n",
        "# calculate area under the curve (AUC)\n",
        "roc_auc = auc(fpr, tpr)\n",
        "\n",
        "# plot ROC curve\n",
        "plt.figure()\n",
        "plt.plot(fpr, tpr, color='darkorange', lw=2, label='ROC curve (area = %0.2f)' % roc_auc)\n",
        "plt.plot([0, 1], [0, 1], color='navy', lw=2, linestyle='--')\n",
        "plt.xlim([0.0, 1.0])\n",
        "plt.ylim([0.0, 1.05])\n",
        "plt.xlabel('False Positive Rate')\n",
        "plt.ylabel('True Positive Rate')\n",
        "plt.title('Receiver Operating Characteristic (ROC) Curve')\n",
        "plt.legend(loc=\"lower right\")\n",
        "plt.show()\n",
        "\n",
        "\n",
        "\n"
      ],
      "metadata": {
        "colab": {
          "base_uri": "https://localhost:8080/",
          "height": 494
        },
        "id": "qNJm8-exgGL5",
        "outputId": "10787f8d-020a-4440-a313-8e66b394ddf9"
      },
      "execution_count": 10,
      "outputs": [
        {
          "output_type": "stream",
          "name": "stdout",
          "text": [
            "Accuracy: 62.43%\n",
            "              precision    recall  f1-score   support\n",
            "\n",
            "           0       0.99      0.58      0.73       300\n",
            "           1       0.22      0.95      0.36        38\n",
            "\n",
            "    accuracy                           0.62       338\n",
            "   macro avg       0.61      0.77      0.55       338\n",
            "weighted avg       0.90      0.62      0.69       338\n",
            "\n",
            "Cross-entropy Loss: 13.543029527863546\n"
          ]
        },
        {
          "output_type": "display_data",
          "data": {
            "text/plain": [
              "<Figure size 432x288 with 1 Axes>"
            ],
            "image/png": "[encoded data removed]"
          },
          "metadata": {
            "needs_background": "light"
          }
        }
      ]
    },
    {
      "cell_type": "markdown",
      "source": [
        "##XGB Classifier for SMOTE"
      ],
      "metadata": {
        "id": "Myz1ffHSucS-"
      }
    },
    {
      "cell_type": "code",
      "execution_count": 11,
      "metadata": {
        "id": "blO1y5s6215z",
        "colab": {
          "base_uri": "https://localhost:8080/",
          "height": 494
        },
        "outputId": "41703544-70dd-4e21-e357-4cbfda03d28a"
      },
      "outputs": [
        {
          "output_type": "stream",
          "name": "stdout",
          "text": [
            "Accuracy: 88.76%\n",
            "              precision    recall  f1-score   support\n",
            "\n",
            "           0       0.94      0.94      0.94       300\n",
            "           1       0.50      0.50      0.50        38\n",
            "\n",
            "    accuracy                           0.89       338\n",
            "   macro avg       0.72      0.72      0.72       338\n",
            "weighted avg       0.89      0.89      0.89       338\n",
            "\n"
          ]
        },
        {
          "output_type": "display_data",
          "data": {
            "text/plain": [
              "<Figure size 432x288 with 1 Axes>"
            ],
            "image/png": "[encoded data removed]"
          },
          "metadata": {
            "needs_background": "light"
          }
        },
        {
          "output_type": "stream",
          "name": "stdout",
          "text": [
            "Cross-entropy Loss: 4.052245055581218\n"
          ]
        }
      ],
      "source": [
        "xgb_model = xgb.XGBClassifier(max_depth=3, n_estimators=500, learning_rate=0.1)\n",
        "\n",
        "xgb_model.fit(X_train1, y_train1)\n",
        "xgb_pred = xgb_model.predict(X_test)\n",
        "\n",
        "\n",
        "\n",
        "#calculate the accuracy score for SMOTE\n",
        "acc = accuracy_score(y_test, xgb_pred)\n",
        "print(\"Accuracy: {:.2f}%\".format(acc * 100))\n",
        "\n",
        "print(classification_report(y_test, xgb_pred))\n",
        "\n",
        "# calculate false positive rate (fpr), true positive rate (tpr), and threshold values\n",
        "fpr, tpr, thresholds = roc_curve(y_test, xgb_pred)\n",
        "\n",
        "# calculate area under the curve (AUC)\n",
        "roc_auc = auc(fpr, tpr)\n",
        "\n",
        "# plot ROC curve\n",
        "plt.figure()\n",
        "plt.plot(fpr, tpr, color='darkorange', lw=2, label='ROC curve (area = %0.2f)' % roc_auc)\n",
        "plt.plot([0, 1], [0, 1], color='navy', lw=2, linestyle='--')\n",
        "plt.xlim([0.0, 1.0])\n",
        "plt.ylim([0.0, 1.05])\n",
        "plt.xlabel('False Positive Rate')\n",
        "plt.ylabel('True Positive Rate')\n",
        "plt.title('Receiver Operating Characteristic (ROC) Curve')\n",
        "plt.legend(loc=\"lower right\")\n",
        "plt.show()\n",
        "\n",
        "loss = log_loss(y_test, xgb_pred)\n",
        "print(\"Cross-entropy Loss:\", loss)\n"
      ]
    },
    {
      "cell_type": "markdown",
      "source": [
        "##XGB Classifier for ADASYN "
      ],
      "metadata": {
        "id": "HTsKWx1VujZy"
      }
    },
    {
      "cell_type": "code",
      "execution_count": 12,
      "metadata": {
        "id": "v50tVaRE25tc",
        "colab": {
          "base_uri": "https://localhost:8080/",
          "height": 494
        },
        "outputId": "b079ca9d-a970-4bee-beb9-5a7dde6ee9c6"
      },
      "outputs": [
        {
          "output_type": "stream",
          "name": "stdout",
          "text": [
            "Accuracy: 89.64%\n",
            "              precision    recall  f1-score   support\n",
            "\n",
            "           0       0.94      0.95      0.94       300\n",
            "           1       0.54      0.50      0.52        38\n",
            "\n",
            "    accuracy                           0.90       338\n",
            "   macro avg       0.74      0.72      0.73       338\n",
            "weighted avg       0.89      0.90      0.89       338\n",
            "\n",
            "Cross-entropy Loss: 3.7323309722458595\n"
          ]
        },
        {
          "output_type": "display_data",
          "data": {
            "text/plain": [
              "<Figure size 432x288 with 1 Axes>"
            ],
            "image/png": "[encoded data removed]"
          },
          "metadata": {
            "needs_background": "light"
          }
        }
      ],
      "source": [
        "xgb_model1 = xgb.XGBClassifier(max_depth=3, n_estimators=500, learning_rate=0.1)\n",
        "\n",
        "xgb_model1.fit(X_train_resampled, y_train_resampled)\n",
        "xgb_pred1 = xgb_model1.predict(X_test)\n",
        "#calculate the accuracy score for ADASYN\n",
        "acc = accuracy_score(y_test, xgb_pred1)\n",
        "print(\"Accuracy: {:.2f}%\".format(acc * 100))\n",
        "\n",
        "print(classification_report(y_test, xgb_pred1))\n",
        "\n",
        "loss = log_loss(y_test, xgb_pred1)\n",
        "print(\"Cross-entropy Loss:\", loss)\n",
        "\n",
        "\n",
        "# calculate false positive rate (fpr), true positive rate (tpr), and threshold values\n",
        "fpr, tpr, thresholds = roc_curve(y_test, xgb_pred1)\n",
        "\n",
        "# calculate area under the curve (AUC)\n",
        "roc_auc = auc(fpr, tpr)\n",
        "\n",
        "# plot ROC curve\n",
        "plt.figure()\n",
        "plt.plot(fpr, tpr, color='darkorange', lw=2, label='ROC curve (area = %0.2f)' % roc_auc)\n",
        "plt.plot([0, 1], [0, 1], color='navy', lw=2, linestyle='--')\n",
        "plt.xlim([0.0, 1.0])\n",
        "plt.ylim([0.0, 1.05])\n",
        "plt.xlabel('False Positive Rate')\n",
        "plt.ylabel('True Positive Rate')\n",
        "plt.title('Receiver Operating Characteristic (ROC) Curve')\n",
        "plt.legend(loc=\"lower right\")\n",
        "plt.show()\n"
      ]
    },
    {
      "cell_type": "markdown",
      "source": [
        "##Random Forest Classifier for SMOTE\n",
        "\n"
      ],
      "metadata": {
        "id": "FGjlof8xusRQ"
      }
    },
    {
      "cell_type": "code",
      "execution_count": 13,
      "metadata": {
        "id": "wv7UvFMO3E3S",
        "outputId": "8d538e0e-52bb-45eb-d953-fddbbdee5468",
        "colab": {
          "base_uri": "https://localhost:8080/",
          "height": 494
        }
      },
      "outputs": [
        {
          "output_type": "stream",
          "name": "stdout",
          "text": [
            "Accuracy: 80.77%\n",
            "              precision    recall  f1-score   support\n",
            "\n",
            "           0       0.93      0.85      0.89       300\n",
            "           1       0.29      0.50      0.37        38\n",
            "\n",
            "    accuracy                           0.81       338\n",
            "   macro avg       0.61      0.67      0.63       338\n",
            "weighted avg       0.86      0.81      0.83       338\n",
            "\n",
            "Cross-entropy Loss: 6.931471805599452\n"
          ]
        },
        {
          "output_type": "display_data",
          "data": {
            "text/plain": [
              "<Figure size 432x288 with 1 Axes>"
            ],
            "image/png": "[encoded data removed]"
          },
          "metadata": {
            "needs_background": "light"
          }
        }
      ],
      "source": [
        "# create a RandomForestClassifier object with desired hyperparameters\n",
        "rf_model = RandomForestClassifier(n_estimators=500, max_depth=5)\n",
        "# fit the model to the training data\n",
        "rf_model.fit(X_train1, y_train1)\n",
        "\n",
        "rf_pred = rf_model.predict(X_test)\n",
        "\n",
        "acc2 = accuracy_score(y_test, rf_pred)\n",
        "print(\"Accuracy: {:.2f}%\".format(acc2 * 100))\n",
        "\n",
        "print(classification_report(y_test, rf_pred))\n",
        "\n",
        "loss = log_loss(y_test, rf_pred)\n",
        "print(\"Cross-entropy Loss:\", loss)\n",
        "\n",
        "# calculate false positive rate (fpr), true positive rate (tpr), and threshold values\n",
        "fpr, tpr, thresholds = roc_curve(y_test, rf_pred)\n",
        "\n",
        "# calculate area under the curve (AUC)\n",
        "roc_auc = auc(fpr, tpr)\n",
        "\n",
        "# plot ROC curve\n",
        "plt.figure()\n",
        "plt.plot(fpr, tpr, color='darkorange', lw=2, label='ROC curve (area = %0.2f)' % roc_auc)\n",
        "plt.plot([0, 1], [0, 1], color='navy', lw=2, linestyle='--')\n",
        "plt.xlim([0.0, 1.0])\n",
        "plt.ylim([0.0, 1.05])\n",
        "plt.xlabel('False Positive Rate')\n",
        "plt.ylabel('True Positive Rate')\n",
        "plt.title('Receiver Operating Characteristic (ROC) Curve')\n",
        "plt.legend(loc=\"lower right\")\n",
        "plt.show()"
      ]
    },
    {
      "cell_type": "code",
      "source": [
        "rf_model1 = RandomForestClassifier(n_estimators=300, max_depth=5)\n",
        "rf_model1.fit(X_train_resampled, y_train_resampled)\n",
        "\n",
        "# make predictions on the test data\n",
        "rf_pred1 = rf_model1.predict(X_test)\n",
        "\n",
        "#calculate the accuracy score\n",
        "acc2 = accuracy_score(y_test, rf_pred1)\n",
        "print(\"Accuracy: {:.2f}%\".format(acc2 * 100))\n",
        "\n",
        "print(classification_report(y_test, rf_pred1))\n",
        "\n",
        "loss = log_loss(y_test, rf_pred1)\n",
        "print(\"Cross-entropy Loss:\", loss)\n",
        "\n",
        "# calculate false positive rate (fpr), true positive rate (tpr), and threshold values\n",
        "fpr, tpr, thresholds = roc_curve(y_test, rf_pred1)\n",
        "\n",
        "# calculate area under the curve (AUC)\n",
        "roc_auc = auc(fpr, tpr)\n",
        "\n",
        "# plot ROC curve\n",
        "plt.figure()\n",
        "plt.plot(fpr, tpr, color='darkorange', lw=2, label='ROC curve (area = %0.2f)' % roc_auc)\n",
        "plt.plot([0, 1], [0, 1], color='navy', lw=2, linestyle='--')\n",
        "plt.xlim([0.0, 1.0])\n",
        "plt.ylim([0.0, 1.05])\n",
        "plt.xlabel('False Positive Rate')\n",
        "plt.ylabel('True Positive Rate')\n",
        "plt.title('Receiver Operating Characteristic (ROC) Curve')\n",
        "plt.legend(loc=\"lower right\")\n",
        "plt.show()\n",
        "\n",
        "print(\"Cross-entropy Loss:\", loss)\n",
        "\n"
      ],
      "metadata": {
        "id": "LsG-t3Lhj4Rh",
        "colab": {
          "base_uri": "https://localhost:8080/",
          "height": 512
        },
        "outputId": "9ade925b-189e-4c86-83ce-2071a501a14a"
      },
      "execution_count": 14,
      "outputs": [
        {
          "output_type": "stream",
          "name": "stdout",
          "text": [
            "Accuracy: 77.81%\n",
            "              precision    recall  f1-score   support\n",
            "\n",
            "           0       0.92      0.82      0.87       300\n",
            "           1       0.25      0.47      0.32        38\n",
            "\n",
            "    accuracy                           0.78       338\n",
            "   macro avg       0.59      0.65      0.60       338\n",
            "weighted avg       0.85      0.78      0.81       338\n",
            "\n",
            "Cross-entropy Loss: 7.997852083383982\n"
          ]
        },
        {
          "output_type": "display_data",
          "data": {
            "text/plain": [
              "<Figure size 432x288 with 1 Axes>"
            ],
            "image/png": "[encoded data removed]"
          },
          "metadata": {
            "needs_background": "light"
          }
        },
        {
          "output_type": "stream",
          "name": "stdout",
          "text": [
            "Cross-entropy Loss: 7.997852083383982\n"
          ]
        }
      ]
    }
  ],
  "metadata": {
    "colab": {
      "provenance": []
    },
    "kernelspec": {
      "display_name": "Python 3",
      "name": "python3"
    },
    "language_info": {
      "name": "python"
    }
  },
  "nbformat": 4,
  "nbformat_minor": 0
}